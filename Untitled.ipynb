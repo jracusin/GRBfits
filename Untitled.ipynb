{
 "cells": [
  {
   "cell_type": "code",
   "execution_count": 37,
   "metadata": {},
   "outputs": [],
   "source": [
    "import numpy as np \n",
    "import matplotlib.pyplot as plt \n",
    "import matplotlib.lines as mlines\n",
    "import fit_lc"
   ]
  },
  {
   "cell_type": "code",
   "execution_count": 38,
   "metadata": {},
   "outputs": [
    {
     "name": "stdout",
     "output_type": "stream",
     "text": [
      "/Users/fhussei1/GRBfits/GRBs\n"
     ]
    }
   ],
   "source": [
    "cd /Users/fhussei1/GRBfits/GRBs"
   ]
  },
  {
   "cell_type": "code",
   "execution_count": 39,
   "metadata": {
    "scrolled": true
   },
   "outputs": [],
   "source": [
    "grb= 'GRB050315'\n",
    "lc= fit_lc.read_lc(dir=grb)"
   ]
  },
  {
   "cell_type": "code",
   "execution_count": 40,
   "metadata": {},
   "outputs": [
    {
     "name": "stdout",
     "output_type": "stream",
     "text": [
      "   Time      T_+ve     T_-ve        Rate    ...   Sigma      SNR    Type\n",
      "---------- --------- ---------- ----------- ... ---------- -------- ----\n",
      "    85.857     2.706     -2.308    245.6822 ...  466.36913 8.045677   PC\n",
      "    91.146     2.432     -2.582    167.2315 ... 354.920368 6.632286   PC\n",
      "    95.968     2.624      -2.39    170.1431 ...  341.67058 6.697857   PC\n",
      "   102.278     3.837     -3.685    115.9736 ... 359.556526 6.776727   PC\n",
      "   109.578     4.059     -3.463    111.4031 ... 429.557626 6.656007   PC\n",
      "   117.831     3.327     -4.195    96.37318 ... 437.082951  6.20422   PC\n",
      "   125.849     5.339      -4.69    62.70871 ... 339.861716 5.776363   PC\n",
      "   137.819     5.905     -6.631    45.66039 ... 371.170566 5.527744   PC\n",
      "   151.144     7.624      -7.42    38.50068 ... 440.069364 5.539178   PC\n",
      "    172.52    13.829    -13.752    21.60272 ... 358.124498 5.611838   PC\n",
      "       ...       ...        ...         ... ...        ...      ...  ...\n",
      "371051.082 12476.375   -5848.08  0.01628282 ...  86.184037 3.598975   PC\n",
      " 414009.35  10066.17 -25275.148 0.007004994 ... 147.402218  4.54166   PC\n",
      "432666.225  3065.836   -3606.96 0.009183996 ... 239.931613  4.86501   PC\n",
      "445131.498  2183.852   -4488.04 0.008946876 ...  250.17983 4.676177   PC\n",
      "455981.841  2871.218  -4058.312 0.008194471 ... 195.765763 4.302596   PC\n",
      "469652.608  6570.623  -5630.839 0.009634124 ... 222.513694 3.948588   PC\n",
      " 496633.35 20094.251 -17008.801 0.006806712 ... 279.228896  3.67986   PC\n",
      "526149.283  2148.655  -5545.727 0.009194743 ... 247.875895 3.968995   PC\n",
      "717284.808 13526.216  -11275.48  0.00776768 ...  34.242586 3.347847   PC\n",
      "766341.783 22055.745 -30515.715 0.002412651 ...   91.20285 4.226116   PC\n",
      "888451.755 59869.155 -13452.993 0.001823379 ...   4.962354 3.215755   PC\n",
      "Length = 208 rows\n"
     ]
    }
   ],
   "source": [
    "print lc"
   ]
  },
  {
   "cell_type": "code",
   "execution_count": 68,
   "metadata": {},
   "outputs": [
    {
     "data": {
      "image/png": "[encoded data removed]",
      "text/plain": [
       "<Figure size 432x288 with 1 Axes>"
      ]
     },
     "metadata": {},
     "output_type": "display_data"
    }
   ],
   "source": [
    "plt.title('Plot of XRT lightcurve')\n",
    "plt.ylabel(r'Count Rate (0.3-10 keV)(erg cm$^{-2}$ s$^{-1}$)',)\n",
    "plt.xlabel('Time since trigger (s)')\n",
    "#plt.plot(color=\"r\",linestyle='None',marker='.')\n",
    "#red_line= mlines.Line2D([], [], color='red', marker='+', markersize = 15, label='PC')\n",
    "#plt.legend(handles=[red_line])\n",
    "plt.plot(lc['Time'],lc['Rate'],marker='.',linestyle='None',color='red',label='PC')\n",
    "plt.errorbar()\n",
    "plt.legend()\n",
    "plt.xscale('log')\n",
    "plt.yscale('log')\n",
    "plt.show()"
   ]
  },
  {
   "cell_type": "code",
   "execution_count": null,
   "metadata": {},
   "outputs": [],
   "source": []
  }
 ],
 "metadata": {
  "kernelspec": {
   "display_name": "Python 2",
   "language": "python",
   "name": "python2"
  },
  "language_info": {
   "codemirror_mode": {
    "name": "ipython",
    "version": 2
   },
   "file_extension": ".py",
   "mimetype": "text/x-python",
   "name": "python",
   "nbconvert_exporter": "python",
   "pygments_lexer": "ipython2",
   "version": "2.7.15"
  }
 },
 "nbformat": 4,
 "nbformat_minor": 2
}
