{
 "cells": [
  {
   "cell_type": "code",
   "execution_count": 1,
   "metadata": {
    "collapsed": true
   },
   "outputs": [],
   "source": [
    "import numpy as np\n",
    "import matplotlib.pylab as plot\n",
    "import math\n",
    "import fit_functions\n",
    "import fit_lc"
   ]
  },
  {
   "cell_type": "code",
   "execution_count": 2,
   "metadata": {
    "collapsed": false
   },
   "outputs": [],
   "source": [
    "#t=np.logspace(0.1,3,100)\n",
    "lc=fit_lc.read_lc('../GRBs/GRB050502B/')\n",
    "t=np.array(lc['Time'])"
   ]
  },
  {
   "cell_type": "code",
   "execution_count": 3,
   "metadata": {
    "collapsed": false
   },
   "outputs": [
    {
     "name": "stdout",
     "output_type": "stream",
     "text": [
      "t1=  [   339.00166667  16950.08333333  33900.16666667]\n",
      "t2=  [   150.   7500.  15000.]\n",
      "ts=  [374.5, 18725.0, 37450.0]\n",
      "w=  [   780.  39000.  78000.]\n",
      "k=  [ 0.57692308  0.57692308  0.57692308]\n",
      "[-3.00666667 -3.00666667 -3.00666667]\n",
      "[  -180.  -9000. -18000.]\n"
     ]
    }
   ],
   "source": [
    "xflares=np.array([600.,3e4,6e4])\n",
    "yflares=np.array([70,0.03,0.05])\n",
    "t2=xflares/4.#np.array([150,1e4,3e4])   # bigger number = wider/shallower decay\n",
    "#ts=-10   # must be negative (>-10)\n",
    "#t1=(xflares-ts)**2/t2\n",
    "#t1=[5000,1e4,1e3]\n",
    "#tpeak=ts+sqrt(t1*t2)\n",
    "#width=t2*(9+12*np.sqrt(t1/t2))**0.5\n",
    "#ts=tpeak-width ????\n",
    "width=xflares*1.3\n",
    "t1=((((width/t2)**2)-9)/12)**2*t2\n",
    "ts=[xflares[i]-np.sqrt(t1[i]*t2[i]) for i in range(3)]\n",
    "print 't1= ',t1\n",
    "print 't2= ',t2\n",
    "print 'ts= ',ts\n",
    "pflares=[np.hstack([yflares[i],ts[i],t1[i],t2[i]]) for i in range(3)]\n",
    "pflares=np.array(np.ravel(pflares))\n",
    "k=(1+4./3*np.sqrt(t1/t2))**(-0.5)\n",
    "print 'w= ',width\n",
    "print 'k= ',k\n",
    "print -t1/(xflares-ts)-(xflares-ts)/t2\n",
    "print xflares-width\n",
    "#print pflares"
   ]
  },
  {
   "cell_type": "code",
   "execution_count": 9,
   "metadata": {
    "collapsed": false
   },
   "outputs": [
    {
     "name": "stdout",
     "output_type": "stream",
     "text": [
      "[  1.00000000e+01   7.00000000e-01   7.00000000e+01   3.74500000e+02\n",
      "   3.39001667e+02   1.50000000e+02   3.00000000e-02   1.87250000e+04\n",
      "   1.69500833e+04   7.50000000e+03   5.00000000e-02   3.74500000e+04\n",
      "   3.39001667e+04   1.50000000e+04]\n"
     ]
    },
    {
     "data": {
      "text/plain": [
       "<matplotlib.figure.Figure at 0x118e3a810>"
      ]
     },
     "metadata": {},
     "output_type": "display_data"
    },
    {
     "data": {
      "image/png": "[encoded data removed]",
      "text/plain": [
       "<matplotlib.figure.Figure at 0x1198b6ad0>"
      ]
     },
     "metadata": {},
     "output_type": "display_data"
    }
   ],
   "source": [
    "plot.figure()\n",
    "p=np.append([10,0.7],pflares)#,A,ts,t1,t2]\n",
    "print p\n",
    "fit_lc.plot_lcfit(lc=lc,noshow=True)\n",
    "y=fit_functions.Norris3_pow(t,*p)\n",
    "plot.plot(t,y)\n",
    "#plot.plot(t,fit_functions.pow(t,*p[0:2]))\n",
    "#plot.plot(t,fit_functions.Norris(t,*p[2:6]))\n",
    "#plot.plot(t,fit_functions.Norris(t,*p[6:10]))\n",
    "#plot.plot(t,fit_functions.Norris(t,*p[10:14]))\n",
    "[plot.plot([xf,xf],[1e-4,1e10],linestyle='--') for xf in xflares]\n",
    "plot.xscale('log')\n",
    "plot.yscale('log')\n",
    "plot.ylim([1e-2,5e3])\n",
    "plot.show()"
   ]
  },
  {
   "cell_type": "code",
   "execution_count": null,
   "metadata": {
    "collapsed": false
   },
   "outputs": [],
   "source": []
  },
  {
   "cell_type": "code",
   "execution_count": null,
   "metadata": {
    "collapsed": true
   },
   "outputs": [],
   "source": []
  },
  {
   "cell_type": "code",
   "execution_count": null,
   "metadata": {
    "collapsed": true
   },
   "outputs": [],
   "source": []
  }
 ],
 "metadata": {
  "kernelspec": {
   "display_name": "Python 2",
   "language": "python",
   "name": "python2"
  },
  "language_info": {
   "codemirror_mode": {
    "name": "ipython",
    "version": 2
   },
   "file_extension": ".py",
   "mimetype": "text/x-python",
   "name": "python",
   "nbconvert_exporter": "python",
   "pygments_lexer": "ipython2",
   "version": "2.7.13"
  }
 },
 "nbformat": 4,
 "nbformat_minor": 2
}
