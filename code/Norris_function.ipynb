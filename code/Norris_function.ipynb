{
 "cells": [
  {
   "cell_type": "code",
   "execution_count": 1,
   "metadata": {
    "collapsed": true
   },
   "outputs": [],
   "source": [
    "import numpy as np\n",
    "import matplotlib.pylab as plot\n",
    "import math\n",
    "import fit_functions\n",
    "import fit_lc"
   ]
  },
  {
   "cell_type": "code",
   "execution_count": 2,
   "metadata": {
    "collapsed": false
   },
   "outputs": [],
   "source": [
    "#t=np.logspace(0.1,3,100)\n",
    "lc=fit_lc.read_lc('../GRBs/GRB050502B/')\n",
    "t=np.array(lc['Time'])"
   ]
  },
  {
   "cell_type": "code",
   "execution_count": 25,
   "metadata": {
    "collapsed": false
   },
   "outputs": [
    {
     "name": "stdout",
     "output_type": "stream",
     "text": [
      "[  7.00000000e+01   2.00000000e+02   5.00000000e+03   5.00000000e+01\n",
      "   3.00000000e-02   2.95000000e+04   5.00000000e+03   5.00000000e+01\n",
      "   5.00000000e-02   2.95000000e+04   5.00000000e+03   5.00000000e+01]\n"
     ]
    }
   ],
   "source": [
    "xflares=np.array([700.,3e4,8e4])\n",
    "yflares=np.array([70,0.03,0.05])\n",
    "t2=50   # bigger number = wider/shallower decay\n",
    "#ts=-10   # must be negative (>-10)\n",
    "#t1=(xflares-ts)**2/t2\n",
    "t1=5000\n",
    "#tpeak=ts+sqrt(t1*t2)\n",
    "ts=xflares-np.sqrt(t1*t2)\n",
    "pflares=np.array([yflares[0],ts[0],t1,t2,yflares[1],ts[1],t1,t2,yflares[2],ts[1],t1,t2])\n",
    "print pflares#A,ts,t1,t2"
   ]
  },
  {
   "cell_type": "code",
   "execution_count": 26,
   "metadata": {
    "collapsed": false
   },
   "outputs": [
    {
     "name": "stdout",
     "output_type": "stream",
     "text": [
      "[  3.00000000e+02   1.00000000e+00   7.00000000e+01   2.00000000e+02\n",
      "   5.00000000e+03   5.00000000e+01   3.00000000e-02   2.95000000e+04\n",
      "   5.00000000e+03   5.00000000e+01   5.00000000e-02   2.95000000e+04\n",
      "   5.00000000e+03   5.00000000e+01]\n"
     ]
    },
    {
     "data": {
      "text/plain": [
       "<matplotlib.figure.Figure at 0x117741650>"
      ]
     },
     "metadata": {},
     "output_type": "display_data"
    },
    {
     "data": {
      "image/png": "[encoded data removed]",
      "text/plain": [
       "<matplotlib.figure.Figure at 0x11806a6d0>"
      ]
     },
     "metadata": {},
     "output_type": "display_data"
    }
   ],
   "source": [
    "plot.figure()\n",
    "p=np.append([300,1],pflares)#,A,ts,t1,t2]\n",
    "print p\n",
    "fit_lc.plot_lcfit(lc=lc,noshow=True)\n",
    "y=fit_functions.Norris3_pow(t,*p)\n",
    "plot.plot(t,y)\n",
    "plot.plot(t,fit_functions.pow(t,*p[0:2]))\n",
    "plot.plot(t,fit_functions.Norris(t,*p[2:6]))\n",
    "plot.plot(t,fit_functions.Norris(t,*p[6:10]))\n",
    "plot.plot(t,fit_functions.Norris(t,*p[10:14]))\n",
    "[plot.plot([xf,xf],[1e-4,1e10]) for xf in xflares]\n",
    "plot.xscale('log')\n",
    "plot.yscale('log')\n",
    "plot.ylim([1e-2,1e3])\n",
    "plot.show()"
   ]
  },
  {
   "cell_type": "code",
   "execution_count": null,
   "metadata": {
    "collapsed": false
   },
   "outputs": [],
   "source": []
  },
  {
   "cell_type": "code",
   "execution_count": null,
   "metadata": {
    "collapsed": true
   },
   "outputs": [],
   "source": []
  }
 ],
 "metadata": {
  "kernelspec": {
   "display_name": "Python 2",
   "language": "python",
   "name": "python2"
  },
  "language_info": {
   "codemirror_mode": {
    "name": "ipython",
    "version": 2
   },
   "file_extension": ".py",
   "mimetype": "text/x-python",
   "name": "python",
   "nbconvert_exporter": "python",
   "pygments_lexer": "ipython2",
   "version": "2.7.13"
  }
 },
 "nbformat": 4,
 "nbformat_minor": 2
}
