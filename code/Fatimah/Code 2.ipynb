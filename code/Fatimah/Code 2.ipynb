{
 "cells": [
  {
   "cell_type": "code",
   "execution_count": 47,
   "metadata": {},
   "outputs": [],
   "source": [
    "import numpy as np\n",
    "from matplotlib import pyplot as plt\n",
    "import fit_functions \n",
    "import fit_lc"
   ]
  },
  {
   "cell_type": "code",
   "execution_count": 3,
   "metadata": {},
   "outputs": [],
   "source": [
    "def func(x):\n",
    "    y = x*x\n",
    "    return y"
   ]
  },
  {
   "cell_type": "code",
   "execution_count": 4,
   "metadata": {},
   "outputs": [
    {
     "name": "stdout",
     "output_type": "stream",
     "text": [
      "4.0\n"
     ]
    }
   ],
   "source": [
    "x = 2.0\n",
    "print func(x)"
   ]
  },
  {
   "cell_type": "code",
   "execution_count": 115,
   "metadata": {},
   "outputs": [],
   "source": [
    "global A\n",
    "global ts\n",
    "global tau1, tau2\n",
    "A=0.02\n",
    "ts=25368\n",
    "tau1= 88.7\n",
    "tau2= 39593\n",
    "def func(t):\n",
    "    lamda=np.exp(2*np.sqrt(tau1/tau2))\n",
    "    I= A*lamda*np.exp((-tau1/(t-ts))-((t-ts)/tau2)) \n",
    "    return I"
   ]
  },
  {
   "cell_type": "code",
   "execution_count": 116,
   "metadata": {},
   "outputs": [],
   "source": [
    "Taupeak= ts + np.sqrt(tau1*tau2)"
   ]
  },
  {
   "cell_type": "code",
   "execution_count": 117,
   "metadata": {},
   "outputs": [
    {
     "name": "stdout",
     "output_type": "stream",
     "text": [
      "[0.04163274 0.04163169 0.04163064 0.0416296  0.04162855 0.04162751\n",
      " 0.04162646 0.04162542 0.04162437 0.04162333 0.04162228 0.04162123\n",
      " 0.04162019 0.04161914 0.0416181  0.04161705 0.04161601 0.04161496\n",
      " 0.04161392 0.04161287 0.04161183 0.04161078 0.04160974 0.04160869\n",
      " 0.04160765 0.0416066  0.04160556 0.04160451 0.04160347 0.04160242\n",
      " 0.04160138 0.04160033 0.04159929 0.04159824 0.0415972  0.04159615\n",
      " 0.04159511 0.04159406 0.04159302 0.04159197 0.04159093 0.04158988\n",
      " 0.04158884 0.0415878  0.04158675 0.04158571 0.04158466 0.04158362\n",
      " 0.04158257 0.04158153 0.04158048 0.04157944 0.0415784  0.04157735\n",
      " 0.04157631 0.04157526 0.04157422 0.04157318 0.04157213 0.04157109\n",
      " 0.04157004 0.041569   0.04156795 0.04156691 0.04156587 0.04156482\n",
      " 0.04156378 0.04156273 0.04156169 0.04156065 0.0415596  0.04155856\n",
      " 0.04155752 0.04155647 0.04155543 0.04155438 0.04155334 0.0415523\n",
      " 0.04155125 0.04155021 0.04154917 0.04154812 0.04154708 0.04154604\n",
      " 0.04154499 0.04154395 0.04154291 0.04154186 0.04154082 0.04153978\n",
      " 0.04153873 0.04153769 0.04153665 0.0415356  0.04153456 0.04153352\n",
      " 0.04153247 0.04153143 0.04153039 0.04152934 0.0415283  0.04152726\n",
      " 0.04152622 0.04152517 0.04152413 0.04152309 0.04152204 0.041521\n",
      " 0.04151996 0.04151892 0.04151787 0.04151683 0.04151579 0.04151474\n",
      " 0.0415137  0.04151266 0.04151162 0.04151057 0.04150953 0.04150849\n",
      " 0.04150745 0.0415064  0.04150536 0.04150432 0.04150328 0.04150223\n",
      " 0.04150119 0.04150015 0.04149911 0.04149807 0.04149702 0.04149598\n",
      " 0.04149494 0.0414939  0.04149285 0.04149181 0.04149077 0.04148973\n",
      " 0.04148869 0.04148764 0.0414866  0.04148556 0.04148452 0.04148348\n",
      " 0.04148243 0.04148139 0.04148035 0.04147931 0.04147827 0.04147723\n",
      " 0.04147618 0.04147514 0.0414741  0.04147306 0.04147202 0.04147098\n",
      " 0.04146993 0.04146889 0.04146785 0.04146681 0.04146577 0.04146473\n",
      " 0.04146369 0.04146264 0.0414616  0.04146056 0.04145952 0.04145848\n",
      " 0.04145744 0.0414564  0.04145536 0.04145431 0.04145327 0.04145223\n",
      " 0.04145119 0.04145015 0.04144911 0.04144807 0.04144703 0.04144599\n",
      " 0.04144495 0.04144391 0.04144286 0.04144182 0.04144078 0.04143974\n",
      " 0.0414387  0.04143766 0.04143662 0.04143558 0.04143454 0.0414335\n",
      " 0.04143246 0.04143142 0.04143038 0.04142934 0.0414283  0.04142726\n",
      " 0.04142621 0.04142517 0.04142413 0.04142309 0.04142205 0.04142101\n",
      " 0.04141997 0.04141893 0.04141789 0.04141685 0.04141581 0.04141477\n",
      " 0.04141373 0.04141269 0.04141165 0.04141061 0.04140957 0.04140853\n",
      " 0.04140749 0.04140645 0.04140541 0.04140437 0.04140333 0.04140229\n",
      " 0.04140125 0.04140021 0.04139917 0.04139813 0.04139709 0.04139605\n",
      " 0.04139501 0.04139398 0.04139294 0.0413919  0.04139086 0.04138982\n",
      " 0.04138878 0.04138774 0.0413867  0.04138566 0.04138462 0.04138358\n",
      " 0.04138254 0.0413815  0.04138046 0.04137942 0.04137838 0.04137735\n",
      " 0.04137631 0.04137527 0.04137423 0.04137319 0.04137215 0.04137111\n",
      " 0.04137007 0.04136903 0.04136799 0.04136696 0.04136592 0.04136488\n",
      " 0.04136384 0.0413628  0.04136176 0.04136072 0.04135968 0.04135865\n",
      " 0.04135761 0.04135657 0.04135553 0.04135449 0.04135345 0.04135241\n",
      " 0.04135138 0.04135034 0.0413493 ]\n"
     ]
    }
   ],
   "source": [
    "print func(t)"
   ]
  },
  {
   "cell_type": "code",
   "execution_count": 135,
   "metadata": {},
   "outputs": [],
   "source": [
    "t = np.arange(25368,50000.0,1.0)"
   ]
  },
  {
   "cell_type": "code",
   "execution_count": 136,
   "metadata": {},
   "outputs": [
    {
     "name": "stdout",
     "output_type": "stream",
     "text": [
      "[25368. 25369. 25370. ... 49997. 49998. 49999.]\n"
     ]
    }
   ],
   "source": [
    "print t"
   ]
  },
  {
   "cell_type": "code",
   "execution_count": 137,
   "metadata": {},
   "outputs": [
    {
     "name": "stdout",
     "output_type": "stream",
     "text": [
      "[0.00000000e+00 6.61013488e-41 1.20547893e-21 ... 1.17604233e-02\n",
      " 1.17601280e-02 1.17598327e-02]\n"
     ]
    },
    {
     "name": "stderr",
     "output_type": "stream",
     "text": [
      "/Users/fhussei1/anaconda2/lib/python2.7/site-packages/ipykernel_launcher.py:10: RuntimeWarning: divide by zero encountered in divide\n",
      "  # Remove the CWD from sys.path while we load stuff.\n"
     ]
    }
   ],
   "source": [
    "print func(t)"
   ]
  },
  {
   "cell_type": "code",
   "execution_count": 138,
   "metadata": {},
   "outputs": [
    {
     "name": "stdout",
     "output_type": "stream",
     "text": [
      "[0.00000000e+00 6.61013488e-41 1.20547893e-21 ... 1.17604233e-02\n",
      " 1.17601280e-02 1.17598327e-02]\n"
     ]
    },
    {
     "name": "stderr",
     "output_type": "stream",
     "text": [
      "/Users/fhussei1/anaconda2/lib/python2.7/site-packages/ipykernel_launcher.py:10: RuntimeWarning: divide by zero encountered in divide\n",
      "  # Remove the CWD from sys.path while we load stuff.\n"
     ]
    }
   ],
   "source": [
    "y = func(t)\n",
    "print y"
   ]
  },
  {
   "cell_type": "code",
   "execution_count": 141,
   "metadata": {
    "scrolled": true
   },
   "outputs": [
    {
     "data": {
      "text/plain": [
       "<matplotlib.lines.Line2D at 0x1a1b36d2d0>"
      ]
     },
     "execution_count": 141,
     "metadata": {},
     "output_type": "execute_result"
    },
    {
     "data": {
      "image/png": "[encoded data removed]",
      "text/plain": [
       "<Figure size 432x288 with 1 Axes>"
      ]
     },
     "metadata": {},
     "output_type": "display_data"
    }
   ],
   "source": [
    "plt.plot(t,y)\n",
    "plt.xscale('log')\n",
    "#plt.yscale('log')\n",
    "plt.axvline(x=ts,color='r')\n",
    "#plt.xlim(2500,3000.0)\n",
    "plt.axvline(x=Taupeak, color='g')"
   ]
  },
  {
   "cell_type": "code",
   "execution_count": null,
   "metadata": {},
   "outputs": [],
   "source": []
  },
  {
   "cell_type": "code",
   "execution_count": null,
   "metadata": {},
   "outputs": [],
   "source": []
  }
 ],
 "metadata": {
  "kernelspec": {
   "display_name": "Python 2",
   "language": "python",
   "name": "python2"
  },
  "language_info": {
   "codemirror_mode": {
    "name": "ipython",
    "version": 2
   },
   "file_extension": ".py",
   "mimetype": "text/x-python",
   "name": "python",
   "nbconvert_exporter": "python",
   "pygments_lexer": "ipython2",
   "version": "2.7.15"
  }
 },
 "nbformat": 4,
 "nbformat_minor": 2
}
