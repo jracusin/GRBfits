{
 "cells": [
  {
   "cell_type": "code",
   "execution_count": 14,
   "metadata": {},
   "outputs": [],
   "source": [
    "import fit_lc\n",
    "import matplotlib.pylab as plot\n",
    "import numpy as np"
   ]
  },
  {
   "cell_type": "code",
   "execution_count": 10,
   "metadata": {},
   "outputs": [
    {
     "name": "stdout",
     "output_type": "stream",
     "text": [
      "/Users/fhussei1/GRBfits/GRBs\n"
     ]
    }
   ],
   "source": [
    "\n",
    "cd /Users/fhussei1/GRBfits/GRBs"
   ]
  },
  {
   "cell_type": "code",
   "execution_count": 54,
   "metadata": {},
   "outputs": [],
   "source": [
    "grb='GRB050315'\n",
    "lc=fit_lc.read_lc(dir=grb)"
   ]
  },
  {
   "cell_type": "code",
   "execution_count": 55,
   "metadata": {
    "scrolled": true
   },
   "outputs": [
    {
     "name": "stdout",
     "output_type": "stream",
     "text": [
      "   Time      T_+ve     T_-ve        Rate    ...   Sigma      SNR    Type\n",
      "---------- --------- ---------- ----------- ... ---------- -------- ----\n",
      "    85.857     2.706     -2.308    245.6822 ...  466.36913 8.045677   PC\n",
      "    91.146     2.432     -2.582    167.2315 ... 354.920368 6.632286   PC\n",
      "    95.968     2.624      -2.39    170.1431 ...  341.67058 6.697857   PC\n",
      "   102.278     3.837     -3.685    115.9736 ... 359.556526 6.776727   PC\n",
      "   109.578     4.059     -3.463    111.4031 ... 429.557626 6.656007   PC\n",
      "   117.831     3.327     -4.195    96.37318 ... 437.082951  6.20422   PC\n",
      "   125.849     5.339      -4.69    62.70871 ... 339.861716 5.776363   PC\n",
      "   137.819     5.905     -6.631    45.66039 ... 371.170566 5.527744   PC\n",
      "   151.144     7.624      -7.42    38.50068 ... 440.069364 5.539178   PC\n",
      "    172.52    13.829    -13.752    21.60272 ... 358.124498 5.611838   PC\n",
      "       ...       ...        ...         ... ...        ...      ...  ...\n",
      "371051.082 12476.375   -5848.08  0.01628282 ...  86.184037 3.598975   PC\n",
      " 414009.35  10066.17 -25275.148 0.007004994 ... 147.402218  4.54166   PC\n",
      "432666.225  3065.836   -3606.96 0.009183996 ... 239.931613  4.86501   PC\n",
      "445131.498  2183.852   -4488.04 0.008946876 ...  250.17983 4.676177   PC\n",
      "455981.841  2871.218  -4058.312 0.008194471 ... 195.765763 4.302596   PC\n",
      "469652.608  6570.623  -5630.839 0.009634124 ... 222.513694 3.948588   PC\n",
      " 496633.35 20094.251 -17008.801 0.006806712 ... 279.228896  3.67986   PC\n",
      "526149.283  2148.655  -5545.727 0.009194743 ... 247.875895 3.968995   PC\n",
      "717284.808 13526.216  -11275.48  0.00776768 ...  34.242586 3.347847   PC\n",
      "766341.783 22055.745 -30515.715 0.002412651 ...   91.20285 4.226116   PC\n",
      "888451.755 59869.155 -13452.993 0.001823379 ...   4.962354 3.215755   PC\n",
      "Length = 208 rows\n"
     ]
    }
   ],
   "source": [
    "print lc"
   ]
  },
  {
   "cell_type": "code",
   "execution_count": 56,
   "metadata": {
    "scrolled": true
   },
   "outputs": [
    {
     "data": {
      "text/plain": [
       "<Table length=208>\n",
       "  name    dtype \n",
       "-------- -------\n",
       "    Time float64\n",
       "   T_+ve float64\n",
       "   T_-ve float64\n",
       "    Rate float64\n",
       " Ratepos float64\n",
       " Rateneg float64\n",
       " FracExp float64\n",
       "  BGrate float64\n",
       "   BGerr float64\n",
       "CorrFact float64\n",
       "CtsInSrc   int64\n",
       " BGInSrc float64\n",
       "Exposure float64\n",
       "   Sigma float64\n",
       "     SNR float64\n",
       "    Type    str2"
      ]
     },
     "execution_count": 56,
     "metadata": {},
     "output_type": "execute_result"
    }
   ],
   "source": [
    "lc.info"
   ]
  },
  {
   "cell_type": "code",
   "execution_count": 57,
   "metadata": {
    "scrolled": true
   },
   "outputs": [
    {
     "name": "stdout",
     "output_type": "stream",
     "text": [
      "   Time   \n",
      "----------\n",
      "    85.857\n",
      "    91.146\n",
      "    95.968\n",
      "   102.278\n",
      "   109.578\n",
      "   117.831\n",
      "   125.849\n",
      "   137.819\n",
      "   151.144\n",
      "    172.52\n",
      "       ...\n",
      "371051.082\n",
      " 414009.35\n",
      "432666.225\n",
      "445131.498\n",
      "455981.841\n",
      "469652.608\n",
      " 496633.35\n",
      "526149.283\n",
      "717284.808\n",
      "766341.783\n",
      "888451.755\n",
      "Length = 208 rows     Rate   \n",
      "-----------\n",
      "   245.6822\n",
      "   167.2315\n",
      "   170.1431\n",
      "   115.9736\n",
      "   111.4031\n",
      "   96.37318\n",
      "   62.70871\n",
      "   45.66039\n",
      "   38.50068\n",
      "   21.60272\n",
      "        ...\n",
      " 0.01628282\n",
      "0.007004994\n",
      "0.009183996\n",
      "0.008946876\n",
      "0.008194471\n",
      "0.009634124\n",
      "0.006806712\n",
      "0.009194743\n",
      " 0.00776768\n",
      "0.002412651\n",
      "0.001823379\n",
      "Length = 208 rows\n"
     ]
    }
   ],
   "source": [
    "print lc['Time'],lc['Rate']"
   ]
  },
  {
   "cell_type": "code",
   "execution_count": 58,
   "metadata": {
    "scrolled": true
   },
   "outputs": [
    {
     "data": {
      "image/png": "[encoded data removed]",
      "text/plain": [
       "<Figure size 432x288 with 1 Axes>"
      ]
     },
     "metadata": {},
     "output_type": "display_data"
    },
    {
     "data": {
      "text/plain": [
       "(<Figure size 432x288 with 1 Axes>,\n",
       " <matplotlib.axes._subplots.AxesSubplot at 0x1a1bb47a90>)"
      ]
     },
     "execution_count": 58,
     "metadata": {},
     "output_type": "execute_result"
    }
   ],
   "source": [
    "fit_lc.plot_lcfit(lc=lc)"
   ]
  },
  {
   "cell_type": "code",
   "execution_count": 61,
   "metadata": {},
   "outputs": [
    {
     "data": {
      "image/png": "[encoded data removed]",
      "text/plain": [
       "<Figure size 432x288 with 1 Axes>"
      ]
     },
     "metadata": {},
     "output_type": "display_data"
    }
   ],
   "source": [
    "plot.plot(lc['Time'],lc['Rate'])\n",
    "plot.xscale('log')\n",
    "plot.yscale('log')"
   ]
  },
  {
   "cell_type": "code",
   "execution_count": 3,
   "metadata": {},
   "outputs": [
    {
     "ename": "SyntaxError",
     "evalue": "invalid syntax (<ipython-input-3-ff7fa03a25f5>, line 1)",
     "output_type": "error",
     "traceback": [
      "\u001b[0;36m  File \u001b[0;32m\"<ipython-input-3-ff7fa03a25f5>\"\u001b[0;36m, line \u001b[0;32m1\u001b[0m\n\u001b[0;31m    xlabel('Time since trigger (s)') % x-axis label\u001b[0m\n\u001b[0m                                                  ^\u001b[0m\n\u001b[0;31mSyntaxError\u001b[0m\u001b[0;31m:\u001b[0m invalid syntax\n"
     ]
    }
   ],
   "source": [
    "xlabel('Time since trigger (s)') % x-axis label\n",
    "ylabel('Count Rate') % y-axis label"
   ]
  },
  {
   "cell_type": "code",
   "execution_count": 33,
   "metadata": {},
   "outputs": [],
   "source": [
    "grb='GRB120403B'\n",
    "lc=fit_lc.read_lc(dir=grb)"
   ]
  },
  {
   "cell_type": "code",
   "execution_count": 34,
   "metadata": {},
   "outputs": [
    {
     "name": "stdout",
     "output_type": "stream",
     "text": [
      "  Time    T_+ve   T_-ve      Rate    ...  Exposure    Sigma      SNR    Type\n",
      "-------- ------- -------- ---------- ... ---------- ---------- -------- ----\n",
      " 984.017  74.264  -63.638  0.1695333 ... 137.902188 421.206967  4.43541   PC\n",
      "1125.685  85.541  -67.405  0.1545361 ...    152.946 553.379196 4.450712   PC\n",
      "1293.876  82.833  -82.649  0.1419813 ...  165.48244 404.405214  4.43235   PC\n",
      " 1472.16  82.568  -95.451   0.132714 ...  178.01898 655.661522 4.456833   PC\n",
      "1673.657 114.251 -118.929 0.09595453 ...  233.17966 438.781377 4.327499   PC\n",
      "1900.822  97.699 -112.915 0.08424448 ...  210.61382 387.256858 3.844712   PC\n",
      "2096.838 154.922  -98.316 0.08777824 ...   253.2381 384.004676 4.318079   PC\n",
      "2389.814 135.242 -138.055 0.06438432 ...   273.2967 248.761858 3.805843   PC\n",
      "2620.854 119.831  -95.798 0.08205714 ...  215.62874 364.775934 3.841178   PC\n",
      "2834.632  96.608  -93.947  0.1227018 ...  190.55566 389.427354  4.42929   PC\n",
      "3082.806 159.332 -151.565  0.0717527 ... 310.897512  308.02922 4.296102   PC\n",
      "7007.555 213.371 -303.136 0.03383492 ...  516.50644 384.673935 3.828285   PC\n",
      "7457.437 172.181 -236.511 0.04267172 ...  408.69164 358.084751  3.82158   PC\n",
      "7991.039 292.987 -361.421 0.02668902 ...  654.40806 329.727459 3.812641   PC\n",
      "8510.432 501.155 -226.406 0.02686207 ...  646.87626 236.551294 3.759011   PC\n"
     ]
    }
   ],
   "source": [
    "print lc"
   ]
  },
  {
   "cell_type": "code",
   "execution_count": 35,
   "metadata": {},
   "outputs": [
    {
     "data": {
      "text/plain": [
       "<Table length=15>\n",
       "  name    dtype \n",
       "-------- -------\n",
       "    Time float64\n",
       "   T_+ve float64\n",
       "   T_-ve float64\n",
       "    Rate float64\n",
       " Ratepos float64\n",
       " Rateneg float64\n",
       " FracExp float64\n",
       "  BGrate float64\n",
       "   BGerr float64\n",
       "CorrFact float64\n",
       "CtsInSrc   int64\n",
       " BGInSrc float64\n",
       "Exposure float64\n",
       "   Sigma float64\n",
       "     SNR float64\n",
       "    Type    str2"
      ]
     },
     "execution_count": 35,
     "metadata": {},
     "output_type": "execute_result"
    }
   ],
   "source": [
    "lc.info"
   ]
  },
  {
   "cell_type": "code",
   "execution_count": 37,
   "metadata": {},
   "outputs": [
    {
     "name": "stdout",
     "output_type": "stream",
     "text": [
      "  Time  \n",
      "--------\n",
      " 984.017\n",
      "1125.685\n",
      "1293.876\n",
      " 1472.16\n",
      "1673.657\n",
      "1900.822\n",
      "2096.838\n",
      "2389.814\n",
      "2620.854\n",
      "2834.632\n",
      "3082.806\n",
      "7007.555\n",
      "7457.437\n",
      "7991.039\n",
      "8510.432\n"
     ]
    }
   ],
   "source": [
    "print lc['Time']"
   ]
  },
  {
   "cell_type": "code",
   "execution_count": 38,
   "metadata": {},
   "outputs": [
    {
     "data": {
      "image/png": "[encoded data removed]",
      "text/plain": [
       "<Figure size 432x288 with 1 Axes>"
      ]
     },
     "metadata": {},
     "output_type": "display_data"
    },
    {
     "data": {
      "text/plain": [
       "(<Figure size 432x288 with 1 Axes>,\n",
       " <matplotlib.axes._subplots.AxesSubplot at 0x1a1bae8d10>)"
      ]
     },
     "execution_count": 38,
     "metadata": {},
     "output_type": "execute_result"
    }
   ],
   "source": [
    "fit_lc.plot_lcfit(lc=lc)"
   ]
  }
 ],
 "metadata": {
  "kernelspec": {
   "display_name": "Python 2",
   "language": "python",
   "name": "python2"
  },
  "language_info": {
   "codemirror_mode": {
    "name": "ipython",
    "version": 2
   },
   "file_extension": ".py",
   "mimetype": "text/x-python",
   "name": "python",
   "nbconvert_exporter": "python",
   "pygments_lexer": "ipython2",
   "version": "2.7.15"
  }
 },
 "nbformat": 4,
 "nbformat_minor": 2
}
